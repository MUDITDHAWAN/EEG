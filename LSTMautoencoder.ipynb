{
 "cells": [
  {
   "cell_type": "code",
   "execution_count": 2,
   "metadata": {},
   "outputs": [
    {
     "name": "stderr",
     "output_type": "stream",
     "text": [
      "Using TensorFlow backend.\n"
     ]
    }
   ],
   "source": [
    "import tensorflow as tf\n",
    "\n",
    "from tensorflow.keras.layers import concatenate, BatchNormalization, LSTM \n",
    "from tensorflow.keras.layers import Activation, Dropout, Dense, Input\n",
    "from tensorflow.keras.models import Model\n",
    "from keras.regularizers import l2"
   ]
  },
  {
   "cell_type": "code",
   "execution_count": 97,
   "metadata": {},
   "outputs": [],
   "source": [
    "def lstm_encoder(input_shape_1, input_shape_2):\n",
    "    seq_input_eeg = Input(shape=input_shape_1, name=\"encoder_ip1\")\n",
    "    seq_input_p = Input(shape=input_shape_2, name=\"encoder_ip2\")\n",
    "    \n",
    "    encoded_eeg = LSTM(64, name=\"encoder_lstm_eeg\",return_sequences=True)(seq_input_eeg)\n",
    "    \n",
    "    encoded_p = LSTM(32, name=\"encoder_lstm_p\", return_sequences=True)(seq_input_p)\n",
    "    \n",
    "    x_combined = concatenate([encoded_eeg, encoded_p], axis = -1)\n",
    "    \n",
    "    model = Model(inputs =[seq_input_eeg, seq_input_p], outputs = [x_combined], name=\"encoder\")\n",
    "    \n",
    "    return model"
   ]
  },
  {
   "cell_type": "code",
   "execution_count": 98,
   "metadata": {},
   "outputs": [],
   "source": [
    "def lstm_decoder(input_shape):\n",
    "    \n",
    "    x_combined = Input(shape=input_shape, name=\"decoder_ip\")\n",
    "    \n",
    "    combined_x = LSTM(64, name=\"combined_lstm\", return_sequences=True)(x_combined)\n",
    "    \n",
    "    decoded_eeg = LSTM(64, name=\"decoder_lstm_eeg\",return_sequences=True)(combined_x)\n",
    "    \n",
    "    decoded_p = LSTM(32, name=\"decoder_lstm_p\", return_sequences=True)(x_combined)\n",
    "    \n",
    "    reconstructed_eeg = LSTM(128, name=\"reconstruct_lstm_eeg\", return_sequences=True)(decoded_eeg)\n",
    "    \n",
    "    reconstructed_p = LSTM(48, name=\"reconstruct_lstm_p\", return_sequences=True)(decoded_p)\n",
    "    \n",
    "    model = Model(inputs = x_combined, outputs=[reconstructed_eeg, reconstructed_p], name=\"decoder\")\n",
    "    return model"
   ]
  },
  {
   "cell_type": "code",
   "execution_count": 99,
   "metadata": {},
   "outputs": [],
   "source": [
    "encoder = lstm_encoder((10,128),(10,48))"
   ]
  },
  {
   "cell_type": "code",
   "execution_count": 100,
   "metadata": {},
   "outputs": [
    {
     "name": "stdout",
     "output_type": "stream",
     "text": [
      "Model: \"encoder\"\n",
      "__________________________________________________________________________________________________\n",
      "Layer (type)                    Output Shape         Param #     Connected to                     \n",
      "==================================================================================================\n",
      "encoder_ip1 (InputLayer)        [(None, 10, 128)]    0                                            \n",
      "__________________________________________________________________________________________________\n",
      "encoder_ip2 (InputLayer)        [(None, 10, 48)]     0                                            \n",
      "__________________________________________________________________________________________________\n",
      "encoder_lstm_eeg (LSTM)         (None, 10, 64)       49408       encoder_ip1[0][0]                \n",
      "__________________________________________________________________________________________________\n",
      "encoder_lstm_p (LSTM)           (None, 10, 32)       10368       encoder_ip2[0][0]                \n",
      "__________________________________________________________________________________________________\n",
      "concatenate_23 (Concatenate)    (None, 10, 96)       0           encoder_lstm_eeg[0][0]           \n",
      "                                                                 encoder_lstm_p[0][0]             \n",
      "==================================================================================================\n",
      "Total params: 59,776\n",
      "Trainable params: 59,776\n",
      "Non-trainable params: 0\n",
      "__________________________________________________________________________________________________\n"
     ]
    }
   ],
   "source": [
    "encoder.summary()"
   ]
  },
  {
   "cell_type": "code",
   "execution_count": 101,
   "metadata": {},
   "outputs": [],
   "source": [
    "decoder = lstm_decoder((10,96))"
   ]
  },
  {
   "cell_type": "code",
   "execution_count": 102,
   "metadata": {},
   "outputs": [
    {
     "name": "stdout",
     "output_type": "stream",
     "text": [
      "Model: \"decoder\"\n",
      "__________________________________________________________________________________________________\n",
      "Layer (type)                    Output Shape         Param #     Connected to                     \n",
      "==================================================================================================\n",
      "decoder_ip (InputLayer)         [(None, 10, 96)]     0                                            \n",
      "__________________________________________________________________________________________________\n",
      "combined_lstm (LSTM)            (None, 10, 64)       41216       decoder_ip[0][0]                 \n",
      "__________________________________________________________________________________________________\n",
      "decoder_lstm_eeg (LSTM)         (None, 10, 64)       33024       combined_lstm[0][0]              \n",
      "__________________________________________________________________________________________________\n",
      "decoder_lstm_p (LSTM)           (None, 10, 32)       16512       decoder_ip[0][0]                 \n",
      "__________________________________________________________________________________________________\n",
      "reconstruct_lstm_eeg (LSTM)     (None, 10, 128)      98816       decoder_lstm_eeg[0][0]           \n",
      "__________________________________________________________________________________________________\n",
      "reconstruct_lstm_p (LSTM)       (None, 10, 48)       15552       decoder_lstm_p[0][0]             \n",
      "==================================================================================================\n",
      "Total params: 205,120\n",
      "Trainable params: 205,120\n",
      "Non-trainable params: 0\n",
      "__________________________________________________________________________________________________\n"
     ]
    }
   ],
   "source": [
    "decoder.summary()"
   ]
  },
  {
   "cell_type": "code",
   "execution_count": 115,
   "metadata": {},
   "outputs": [],
   "source": [
    "def lstm_autoencoder(input_shape_1, input_shape_2, encoder, decoder):\n",
    "    \n",
    "    ip1 = Input(shape=input_shape_1, name=\"ip1\")\n",
    "    \n",
    "    ip2 = Input(shape=input_shape_2, name=\"ip2\")\n",
    "    \n",
    "    encoded = encoder([ip1, ip2])\n",
    "    \n",
    "    decoded = decoder(encoded)\n",
    "    \n",
    "    model = Model(inputs = [ip1, ip2], outputs = decoded, name=\"autoencoder\")\n",
    "    \n",
    "    return model"
   ]
  },
  {
   "cell_type": "code",
   "execution_count": 116,
   "metadata": {},
   "outputs": [],
   "source": [
    "autoencoder = lstm_autoencoder((10,128),(10,48), encoder, decoder)"
   ]
  },
  {
   "cell_type": "code",
   "execution_count": 117,
   "metadata": {},
   "outputs": [
    {
     "name": "stdout",
     "output_type": "stream",
     "text": [
      "Model: \"autoencoder\"\n",
      "__________________________________________________________________________________________________\n",
      "Layer (type)                    Output Shape         Param #     Connected to                     \n",
      "==================================================================================================\n",
      "ip1 (InputLayer)                [(None, 10, 128)]    0                                            \n",
      "__________________________________________________________________________________________________\n",
      "ip2 (InputLayer)                [(None, 10, 48)]     0                                            \n",
      "__________________________________________________________________________________________________\n",
      "encoder (Model)                 (None, 10, 96)       59776       ip1[0][0]                        \n",
      "                                                                 ip2[0][0]                        \n",
      "__________________________________________________________________________________________________\n",
      "decoder (Model)                 [(None, 10, 128), (N 205120      encoder[3][0]                    \n",
      "==================================================================================================\n",
      "Total params: 264,896\n",
      "Trainable params: 264,896\n",
      "Non-trainable params: 0\n",
      "__________________________________________________________________________________________________\n"
     ]
    }
   ],
   "source": [
    "autoencoder.summary()"
   ]
  },
  {
   "cell_type": "code",
   "execution_count": null,
   "metadata": {},
   "outputs": [],
   "source": []
  }
 ],
 "metadata": {
  "kernelspec": {
   "display_name": "Python 3",
   "language": "python",
   "name": "python3"
  },
  "language_info": {
   "codemirror_mode": {
    "name": "ipython",
    "version": 3
   },
   "file_extension": ".py",
   "mimetype": "text/x-python",
   "name": "python",
   "nbconvert_exporter": "python",
   "pygments_lexer": "ipython3",
   "version": "3.6.10"
  }
 },
 "nbformat": 4,
 "nbformat_minor": 4
}